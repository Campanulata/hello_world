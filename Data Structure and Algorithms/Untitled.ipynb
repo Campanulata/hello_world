{
 "cells": [
  {
   "cell_type": "code",
   "execution_count": 5,
   "metadata": {},
   "outputs": [
    {
     "name": "stdout",
     "output_type": "stream",
     "text": [
      "151.69599723815918\n"
     ]
    }
   ],
   "source": [
    "import time\n",
    "\n",
    "# 给定a,b,c自然数，满足if的条件，求所有可能的值\n",
    "start_time = time.time()\n",
    "for a in range(1,1001):\n",
    "    for b in range(1,1001):\n",
    "        for c in range(1,1001):\n",
    "            if a+b+c==1000 and a**2+b**2==c**2:\n",
    "                print(a,b,c)\n",
    "end_time = time.time()\n",
    "print(end_time-start_time)"
   ]
  },
  {
   "cell_type": "code",
   "execution_count": 6,
   "metadata": {},
   "outputs": [
    {
     "name": "stdout",
     "output_type": "stream",
     "text": [
      "200 375 425\n",
      "375 200 425\n",
      "0.9603159427642822\n"
     ]
    }
   ],
   "source": [
    "import time\n",
    "\n",
    "# 给定a,b,c自然数，满足if的条件，求所有可能的值\n",
    "start_time = time.time()\n",
    "for a in range(1,1001):\n",
    "    for b in range(1,1001):\n",
    "        c=1000-a-b\n",
    "        if a**2+b**2==c**2:\n",
    "                print(a,b,c)\n",
    "end_time = time.time()\n",
    "print(end_time-start_time)"
   ]
  },
  {
   "cell_type": "code",
   "execution_count": null,
   "metadata": {},
   "outputs": [],
   "source": []
  }
 ],
 "metadata": {
  "kernelspec": {
   "display_name": "Python 3",
   "language": "python",
   "name": "python3"
  },
  "language_info": {
   "codemirror_mode": {
    "name": "ipython",
    "version": 3
   },
   "file_extension": ".py",
   "mimetype": "text/x-python",
   "name": "python",
   "nbconvert_exporter": "python",
   "pygments_lexer": "ipython3",
   "version": "3.7.3"
  }
 },
 "nbformat": 4,
 "nbformat_minor": 4
}
